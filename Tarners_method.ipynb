{
  "nbformat": 4,
  "nbformat_minor": 0,
  "metadata": {
    "colab": {
      "name": "Tarners_method.ipynb",
      "provenance": []
    },
    "kernelspec": {
      "name": "python3",
      "display_name": "Python 3"
    }
  },
  "cells": [
    {
      "cell_type": "markdown",
      "metadata": {
        "id": "uY3dcE_rNk4m"
      },
      "source": [
        "**Tarners Method With Application of ML**\n",
        "\n",
        "---\n",
        "\n",
        "\n",
        "Problem - A Volumetric-oil reservoir has a bubble-point pressure of 2100 psi at\n",
        "175°F. The initial reservoir pressure is 2925 psi. Using given fluid and rock properties and PVT data predict Np, Gp at 4 different avg res pressures.\n"
      ]
    },
    {
      "cell_type": "markdown",
      "metadata": {
        "id": "1Z1xR2GZeHA3"
      },
      "source": [
        "**Required Packages**"
      ]
    },
    {
      "cell_type": "code",
      "metadata": {
        "id": "X84l_PpUdtCv"
      },
      "source": [
        "# Importing Modules\n",
        "import pandas as pd \n",
        "import numpy as np\n",
        "import matplotlib.pyplot as plt\n",
        "from sklearn.linear_model import LinearRegression\n",
        "import xgboost as xgb"
      ],
      "execution_count": 1,
      "outputs": []
    },
    {
      "cell_type": "markdown",
      "metadata": {
        "id": "Ua-itHO5eZRP"
      },
      "source": [
        "**Function definitions**"
      ]
    },
    {
      "cell_type": "code",
      "metadata": {
        "id": "cMLv34sXeYQJ"
      },
      "source": [
        "# Functions For Undersaturated\n",
        "def undersaturated(Sw, Cw, Cf, P1, P2, Bo, Boi):\n",
        "    Efw = Boi*( (Cw*Sw + Cf)/(1-Sw) )*(P1-P2)\n",
        "    print(Efw)\n",
        "    Eo = Bo - Boi\n",
        "    print(Eo)\n",
        "    Np = N*pow(10,6)*(Eo+Efw)/Bo\n",
        "    return Np\n",
        "\n",
        "# Functions For Saturated\n",
        "def GOR(Rel_perm, Visc_ratio, Rs, Bo, Bg):\n",
        "    gor = Rs + Rel_perm*Visc_ratio*(Bo/Bg)\n",
        "    return gor\n",
        "    \n",
        "def OilSat(Sw, Np, N, Bo, Boi):\n",
        "    So = (1-Sw)*(1-(Np/N))*(Bo/Boi)\n",
        "    return So\n",
        "    \n",
        "def Mbe(Np2, N, Rsi, Rs, Bo, Bg, Boi):\n",
        "    Gp_mbe = N*( (Rsi-Rs) - ((Boi-Bo)/Bg) ) - (Np2*(Bo/Bg - Rs))\n",
        "    return Gp_mbe"
      ],
      "execution_count": 2,
      "outputs": []
    },
    {
      "cell_type": "markdown",
      "metadata": {
        "id": "HOjbnkVTe4Uz"
      },
      "source": [
        "**Importing Data**"
      ]
    },
    {
      "cell_type": "code",
      "metadata": {
        "id": "4S7FxhnGdyn0",
        "colab": {
          "base_uri": "https://localhost:8080/",
          "height": 167
        },
        "outputId": "622bb1d1-c635-4495-e9dc-38ba39bbc263"
      },
      "source": [
        "# Meant For Volumetric Reservoir \n",
        "\n",
        "# Importing PVT data\n",
        "data = pd.read_excel('TA.xlsx')\n",
        "Rel_perm_data = pd.read_excel('TA2.xlsx')\n",
        "\n",
        "# Reservoir Data To be given By the User\n",
        "N= 10 #in MMSTB\n",
        "Sw = 0.15\n",
        "por = 0.12\n",
        "Cw = 3.6 * pow(10,-6)#in psi−1\n",
        "Cf = 4.9 * pow(10,-6) #in psi−1\n",
        "\n",
        "# Showing PVT data\n",
        "data"
      ],
      "execution_count": 11,
      "outputs": [
        {
          "output_type": "execute_result",
          "data": {
            "text/html": [
              "<div>\n",
              "<style scoped>\n",
              "    .dataframe tbody tr th:only-of-type {\n",
              "        vertical-align: middle;\n",
              "    }\n",
              "\n",
              "    .dataframe tbody tr th {\n",
              "        vertical-align: top;\n",
              "    }\n",
              "\n",
              "    .dataframe thead th {\n",
              "        text-align: right;\n",
              "    }\n",
              "</style>\n",
              "<table border=\"1\" class=\"dataframe\">\n",
              "  <thead>\n",
              "    <tr style=\"text-align: right;\">\n",
              "      <th></th>\n",
              "      <th>SNO</th>\n",
              "      <th>P(psi)</th>\n",
              "      <th>B0(bbl/stb)</th>\n",
              "      <th>Bt(bbl/scf)</th>\n",
              "      <th>Rs(SCF/STB)</th>\n",
              "      <th>Bg(bbl/stb)</th>\n",
              "      <th>uo/ug</th>\n",
              "    </tr>\n",
              "  </thead>\n",
              "  <tbody>\n",
              "    <tr>\n",
              "      <th>0</th>\n",
              "      <td>1</td>\n",
              "      <td>2925</td>\n",
              "      <td>1.429</td>\n",
              "      <td>1.429</td>\n",
              "      <td>1340</td>\n",
              "      <td>NaN</td>\n",
              "      <td>NaN</td>\n",
              "    </tr>\n",
              "    <tr>\n",
              "      <th>1</th>\n",
              "      <td>2</td>\n",
              "      <td>2100</td>\n",
              "      <td>1.480</td>\n",
              "      <td>1.480</td>\n",
              "      <td>1340</td>\n",
              "      <td>0.001283</td>\n",
              "      <td>34.1</td>\n",
              "    </tr>\n",
              "    <tr>\n",
              "      <th>2</th>\n",
              "      <td>3</td>\n",
              "      <td>1800</td>\n",
              "      <td>1.468</td>\n",
              "      <td>1.559</td>\n",
              "      <td>1280</td>\n",
              "      <td>0.001518</td>\n",
              "      <td>38.3</td>\n",
              "    </tr>\n",
              "    <tr>\n",
              "      <th>3</th>\n",
              "      <td>4</td>\n",
              "      <td>1500</td>\n",
              "      <td>1.440</td>\n",
              "      <td>1.792</td>\n",
              "      <td>1150</td>\n",
              "      <td>0.001853</td>\n",
              "      <td>42.4</td>\n",
              "    </tr>\n",
              "  </tbody>\n",
              "</table>\n",
              "</div>"
            ],
            "text/plain": [
              "   SNO  P(psi)  B0(bbl/stb)  Bt(bbl/scf)  Rs(SCF/STB)  Bg(bbl/stb)  uo/ug\n",
              "0    1    2925        1.429        1.429         1340          NaN    NaN\n",
              "1    2    2100        1.480        1.480         1340     0.001283   34.1\n",
              "2    3    1800        1.468        1.559         1280     0.001518   38.3\n",
              "3    4    1500        1.440        1.792         1150     0.001853   42.4"
            ]
          },
          "metadata": {
            "tags": []
          },
          "execution_count": 11
        }
      ]
    },
    {
      "cell_type": "markdown",
      "metadata": {
        "id": "m10yjLjDeKUl"
      },
      "source": [
        "**Fitting XGB to get correlation b/w Relative Permeability and OIl sat**"
      ]
    },
    {
      "cell_type": "code",
      "metadata": {
        "id": "ADEdHKNpfKH3",
        "colab": {
          "base_uri": "https://localhost:8080/",
          "height": 296
        },
        "outputId": "ae503250-7981-4d16-853c-a6b12c603c82"
      },
      "source": [
        "# Obtaining Curve For Relative Permeability as a function of Oil Saturation\n",
        "\n",
        "x = Rel_perm_data.iloc[:,0].values\n",
        "x = x.reshape(x.shape[0], 1)\n",
        "y = Rel_perm_data.iloc[:,1].values\n",
        "\n",
        "xgbr = xgb.XGBRegressor() \n",
        "reg = xgbr.fit(x, y)\n",
        "\n",
        "# Plotting Rel Perm vs oil Saturation curve\n",
        "plt.plot(x,y)\n",
        "plt.xlabel('oil Saturation')\n",
        "plt.ylabel('Kg/Ko')\n",
        "plt.show()"
      ],
      "execution_count": 5,
      "outputs": [
        {
          "output_type": "stream",
          "text": [
            "[16:27:14] WARNING: /workspace/src/objective/regression_obj.cu:152: reg:linear is now deprecated in favor of reg:squarederror.\n"
          ],
          "name": "stdout"
        },
        {
          "output_type": "display_data",
          "data": {
            "image/png": "[encoded data removed]",
            "text/plain": [
              "<Figure size 432x288 with 1 Axes>"
            ]
          },
          "metadata": {
            "tags": [],
            "needs_background": "light"
          }
        }
      ]
    },
    {
      "cell_type": "markdown",
      "metadata": {
        "id": "6PQxIOqEfsHA"
      },
      "source": [
        "**Tarners Iterative Approach**"
      ]
    },
    {
      "cell_type": "code",
      "metadata": {
        "id": "Gr6_oqIsdpGh"
      },
      "source": [
        "# Container For storing pressure and cummulative Production Data\n",
        "column_names = ['Average Res Pressure', 'Cumm. Oil Production', 'Cumm. Gas Prod']\n",
        "prod_pred = pd.DataFrame(columns = column_names)\n",
        "\n",
        "i = 0\n",
        "Bo = 1.480\n",
        "Boi= data.iloc[0,2]\n",
        "P1 = data.iloc[i,1]\n",
        "P2 = data.iloc[i+1,1]\n",
        "Rsi = 1340\n",
        "\n",
        "Oil_Prod_undersat = undersaturated(Sw, Cw, Cf, P1, P2, Bo, Boi)\n",
        "Gas_prod_undersat = Rsi*Oil_Prod_undersat\n",
        "prod_pred = prod_pred.append({'Average Res Pressure':P1, 'Cumm. Oil Production':0, \n",
        "                      'Cumm. Gas Prod': 0}, ignore_index = True)\n",
        "prod_pred = prod_pred.append({'Average Res Pressure':P2, 'Cumm. Oil Production':Oil_Prod_undersat, \n",
        "                      'Cumm. Gas Prod': Gas_prod_undersat}, ignore_index = True)\n",
        "\n",
        "###################################\n",
        "\n",
        "# P = 1800 Psi\n",
        "i = 1\n",
        "N = N*pow(10,6)-Oil_Prod_undersat\n",
        "Rsi = data.iloc[i,4]\n",
        "Boi = data.iloc[i,2]\n",
        "Bgi = data.iloc[i,5]\n",
        "comm_prod = []\n",
        "\n",
        "for i in range(1,data.shape[0]-1):\n",
        "    Np1 =0 \n",
        "    Np2 = 100\n",
        "    P1 = data.iloc[i,1]\n",
        "    P2 = data.iloc[i+1,1]\n",
        "    \n",
        "    Rs =  data.iloc[i+1,4]\n",
        "    Bo =  data.iloc[i+1,2]\n",
        "    Bg =  data.iloc[i+1,5]\n",
        "    Visc_ratio = data.iloc[i+1, 6]\n",
        "    Gp1 = 0\n",
        "    gor1 = Rsi\n",
        "    \n",
        "    \n",
        "    Np2 = Np2 + 10\n",
        "    \n",
        "    rate = 10\n",
        "    while(Np2 < N):\n",
        "        Np2 = Np2 + rate\n",
        "        print(Np2)\n",
        "        Gp1 = Gp1\n",
        "        Gp2 = Mbe(Np2, N, Rsi, Rs, Bo, Bg, Boi)\n",
        "        print(Gp2/N)\n",
        "        So = OilSat(Sw, Np2, N, Bo, Boi)\n",
        "        #print(So)\n",
        "        k_ = np.array([So*100])\n",
        "        k_ = k_.reshape(k_.shape[0], 1)\n",
        "        \n",
        "        Rel_perm = reg.predict(k_)\n",
        "        \n",
        "        gor1 = gor1\n",
        "        gor2 = GOR(Rel_perm, Visc_ratio, Rs, Bo, Bg)\n",
        "        \n",
        "        gor_avg = (gor1+gor2)/2*(Np2-Np1) \n",
        "        Gp2_gor = Gp1 + gor_avg\n",
        "        print(Gp2_gor/N)\n",
        "        print('\\n')\n",
        "        error = abs((Gp2_gor - Gp2)/N)\n",
        "        print(error)\n",
        "        if error < 2:\n",
        "            prod_pred = prod_pred.append({'Average Res Pressure':P2, 'Cumm. Oil Production':Np2+Oil_Prod_undersat, \n",
        "                      'Cumm. Gas Prod': Gp2}, ignore_index = True)\n",
        "            comm_prod.append(Np2)\n",
        "            Gp1 = Gp2\n",
        "            Np1 = Np2\n",
        "            gor1 = gor2\n",
        "            break"
      ],
      "execution_count": null,
      "outputs": []
    },
    {
      "cell_type": "markdown",
      "metadata": {
        "id": "jyJmb339d6D_"
      },
      "source": [
        "**Performance Prediction Curve PLot**"
      ]
    },
    {
      "cell_type": "code",
      "metadata": {
        "id": "x80Zh7E3d3ba",
        "colab": {
          "base_uri": "https://localhost:8080/",
          "height": 290
        },
        "outputId": "946d3500-e090-4be4-ff29-710cae9793f1"
      },
      "source": [
        "# Cumm OIl production           \n",
        "plt.plot(prod_pred['Average Res Pressure'], prod_pred['Cumm. Oil Production'], color='brown')\n",
        "plt.xlabel('Pressure')\n",
        "plt.ylabel('Cumm. Oil Prod')\n",
        "plt.show()"
      ],
      "execution_count": 7,
      "outputs": [
        {
          "output_type": "display_data",
          "data": {
            "image/png": "[encoded data removed]",
            "text/plain": [
              "<Figure size 432x288 with 1 Axes>"
            ]
          },
          "metadata": {
            "tags": [],
            "needs_background": "light"
          }
        }
      ]
    },
    {
      "cell_type": "code",
      "metadata": {
        "id": "U6bmKFdzd5DG",
        "colab": {
          "base_uri": "https://localhost:8080/",
          "height": 290
        },
        "outputId": "e047659e-548e-4f4a-e3a9-f2200e055427"
      },
      "source": [
        "# Cumm Gas Production\n",
        "plt.plot(prod_pred['Average Res Pressure'], prod_pred['Cumm. Gas Prod'])\n",
        "plt.xlabel('Pressure')\n",
        "plt.ylabel('Cumm. Gas Prod')\n",
        "plt.show()"
      ],
      "execution_count": 8,
      "outputs": [
        {
          "output_type": "display_data",
          "data": {
            "image/png": "[encoded data removed]",
            "text/plain": [
              "<Figure size 432x288 with 1 Axes>"
            ]
          },
          "metadata": {
            "tags": [],
            "needs_background": "light"
          }
        }
      ]
    }
  ]
}